{
 "cells": [
  {
   "cell_type": "markdown",
   "metadata": {},
   "source": [
    "# Getting Colors of Player Jerseys"
   ]
  },
  {
   "cell_type": "code",
   "execution_count": 1,
   "metadata": {},
   "outputs": [],
   "source": [
    "import numpy as np\n",
    "import cv2\n",
    "import os\n",
    "from random import randint \n",
    "import pandas as pd\n",
    "import matplotlib.pyplot as plt\n",
    "import matplotlib.patches as patches\n",
    "import matplotlib.image as mpimg\n",
    "import extcolors\n",
    "from colormap import rgb2hex\n",
    "from colormap import hex2rgb\n",
    "from PIL import Image\n",
    "from matplotlib.offsetbox import OffsetImage, AnnotationBbox\n",
    "from tensorflow.keras.models import load_model "
   ]
  },
  {
   "cell_type": "markdown",
   "metadata": {},
   "source": [
    "## Function to get a random hit frame from the match to determine jersey colors"
   ]
  },
  {
   "cell_type": "code",
   "execution_count": 14,
   "metadata": {},
   "outputs": [],
   "source": [
    "def getHitFrame(file_video,file_timestamps): \n",
    "    video = cv2.VideoCapture(file_video) \n",
    "    fps = video.get(cv2.CAP_PROP_FPS)\n",
    "    print('frames per second =',fps) \n",
    "    with open(file_timestamps,'r') as f: \n",
    "        timestamps = f.read().split(',')  \n",
    "        n = randint(0, len(timestamps)) \n",
    "        frame_id = int(fps*float(timestamps[n]))\n",
    "        video.set(cv2.CAP_PROP_POS_FRAMES, frame_id) \n",
    "        success, frame = video.read() \n",
    "        if success:     \n",
    "            framepath = os.path.join('data','masked','base.jpg')\n",
    "            cv2.imwrite(framepath, frame)\n",
    "            print(f'\\t Saved frame')"
   ]
  },
  {
   "cell_type": "code",
   "execution_count": 15,
   "metadata": {},
   "outputs": [
    {
     "name": "stdout",
     "output_type": "stream",
     "text": [
      "frames per second = 30.0\n",
      "\t Saved frame\n"
     ]
    }
   ],
   "source": [
    "file_video = os.path.join('data','match1.mp4') \n",
    "file_timestamps = os.path.join('timestamps.txt') \n",
    "\n",
    "getHitFrame(file_video, file_timestamps)"
   ]
  },
  {
   "cell_type": "markdown",
   "metadata": {},
   "source": [
    "## Function to Convert RGB into Hex and Create and DataFrame "
   ]
  },
  {
   "cell_type": "code",
   "execution_count": 2,
   "metadata": {},
   "outputs": [],
   "source": [
    "# Convert colors into hex and create a dataframe\n",
    "\n",
    "def color_to_df(input2):\n",
    "    colors_pre_list = str(input2).replace('([(','').split(', (')[0:-1]\n",
    "    df_rgb = [i.split('), ')[0] + ')' for i in colors_pre_list]\n",
    "    df_percent = [i.split('), ')[1].replace(')','') for i in colors_pre_list]\n",
    "    \n",
    "    #convert RGB to HEX code\n",
    "    df_color_up = [rgb2hex(int(i.split(\", \")[0].replace(\"(\",\"\")),\n",
    "                          int(i.split(\", \")[1]),\n",
    "                          int(i.split(\", \")[2].replace(\")\",\"\"))) for i in df_rgb]\n",
    "    \n",
    "    df = pd.DataFrame(zip(df_color_up, df_percent), columns = ['hex_code','occurence'])\n",
    "    return df"
   ]
  },
  {
   "cell_type": "markdown",
   "metadata": {},
   "source": [
    "1. **Tolerance** : 0 means no grouping and 100 means all colors are grouped\n",
    "2. **Limit** : upper limit to the number of extracted colors presented in the output."
   ]
  },
  {
   "cell_type": "markdown",
   "metadata": {},
   "source": [
    "## Function to Obtain Court Area using Masking"
   ]
  },
  {
   "cell_type": "code",
   "execution_count": 3,
   "metadata": {},
   "outputs": [],
   "source": [
    "def masking_image(input_image, BL, BR, TR, TL, saved_name):\n",
    "\n",
    "    # mask defaulting to black for 3-channel and transparent for 4-channel\n",
    "    # (of course replace corners with yours)\n",
    "    mask = np.zeros(input_image.shape, dtype=np.uint8)\n",
    "    roi_corners = np.array([[BL, BR, TR, TL]], dtype=np.int32)\n",
    "\n",
    "    # fill the ROI so it doesn't get wiped out when the mask is applied\n",
    "    channel_count = input_image.shape[2]  # i.e. 3 or 4 depending on your image\n",
    "    ignore_mask_color = (255,)*channel_count\n",
    "    cv2.fillPoly(mask, roi_corners, ignore_mask_color)\n",
    "\n",
    "    # apply the mask\n",
    "    masked_image = cv2.bitwise_and(input_image, mask)\n",
    "\n",
    "    # save the result\n",
    "    cv2.imwrite(saved_name, masked_image)\n",
    "\n",
    "    # Show the resulting image\n",
    "    cv2.imshow(\"Masked Image\", masked_image)\n",
    "    \n",
    "    cv2.waitKey(0)\n",
    "    cv2.destroyAllWindows()"
   ]
  },
  {
   "cell_type": "markdown",
   "metadata": {},
   "source": [
    "## Function to Extract colors of player clothes and Plot a Donut graph"
   ]
  },
  {
   "cell_type": "code",
   "execution_count": 4,
   "metadata": {},
   "outputs": [],
   "source": [
    "def exact_least_used_colors(input_image, tolerance, limit, zoom, num_rows): \n",
    "    \n",
    "    # input_image is the masked image\n",
    "    img = Image.open(input_image)\n",
    "    \n",
    "    # Extract colors - RGB, counts and create dataframe\n",
    "    img_url = input_image\n",
    "    colors_x = extcolors.extract_from_path(img_url, tolerance = tolerance, limit = limit)\n",
    "    df_color = color_to_df(colors_x)\n",
    "    \n",
    "    # We don't want black color of the background and green color of the court, so filter out first 2 rows\n",
    "    list_color = list(df_color.iloc[2:,0])\n",
    "    list_occurence = [int(i) for i in list(df_color.iloc[2:,1])]\n",
    "    \n",
    "    # annotate text\n",
    "    text_c = [c + ' ' + str(round(p*100/sum(list_occurence),1)) +'%' for c, p in zip(list_color, list_occurence)]\n",
    "    fig, (ax1, ax2) = plt.subplots(1, 2, figsize=(160,120), dpi = 10)\n",
    "    \n",
    "    # donut plot with percentages\n",
    "    wedges, text = ax1.pie(list_occurence,\n",
    "                           labels= text_c,\n",
    "                           labeldistance= 1.05,\n",
    "                           colors = list_color,\n",
    "                           textprops={'fontsize': 150, 'color':'black'})\n",
    "    plt.setp(wedges, width=0.3)\n",
    "\n",
    "    # add image in the center of donut plot\n",
    "    img = mpimg.imread(input_image)\n",
    "    imagebox = OffsetImage(img, zoom=zoom)\n",
    "    ab = AnnotationBbox(imagebox, (0, 0))\n",
    "    ax1.add_artist(ab)\n",
    "    \n",
    "    # Convert number of occurences into percentages\n",
    "    list_percentage = []\n",
    "    for p in list_occurence:\n",
    "        p = round(p*100/sum(list_occurence),1)\n",
    "        list_percentage.append(p)\n",
    "        \n",
    "    # second most occuring color: color of the player's clothes: df_player_color\n",
    "    # df contains all colors except black bg and the green color of the court\n",
    "    df = pd.DataFrame(zip(list_color, list_percentage), columns = ['Hex_Code','Percentage'])\n",
    "    df_player_color = df.iloc[1,:]\n",
    "    \n",
    "    # Print RGB value of least used colors\n",
    "    RGB_Value = [hex2rgb(df_player_color['Hex_Code'])]\n",
    "    print(\"RGB Values: \", RGB_Value)\n",
    "        \n",
    "    # Display color palette\n",
    "    RGB_Value = np.array(RGB_Value)[np.newaxis, :, :]\n",
    "    plt.imshow(RGB_Value)\n",
    "    plt.axis('off')\n",
    "    plt.show()\n",
    "    \n",
    "    return RGB_Value[0][0]"
   ]
  },
  {
   "cell_type": "markdown",
   "metadata": {},
   "source": [
    "## Implementing to get player colors"
   ]
  },
  {
   "cell_type": "code",
   "execution_count": 5,
   "metadata": {},
   "outputs": [],
   "source": [
    "# Function to draw pure black lines on court left and right court boundaries (to improve particle filter) \n",
    "\n",
    "def change_court_boundary(frame): \n",
    "    \n",
    "    # Boundary Points\n",
    "    BL = (195,654)\n",
    "    BR = (1068,654)\n",
    "    TR = (848,275)\n",
    "    TL = (398,275) \n",
    "\n",
    "    # Left Boundary Lines\n",
    "    cv2.line(frame, BL,TL, (0,0,0), 7)  # Outer \n",
    "    cv2.line(frame, (BL[0] + 70, BL[1]),(TL[0] + 35, TL[1]), (0,0,0), 7)  # Inner   \n",
    "\n",
    "    # Right Boundary Lines \n",
    "    cv2.line(frame, BR,TR, (0,0,0), 7)  # Inner \n",
    "    cv2.line(frame, (BR[0] - 70, BR[1]),(TR[0] - 35, TR[1]), (0,0,0), 7)  # Outer    \n",
    "    \n",
    "    # Center Line \n",
    "    cv2.line(frame, (BL[0] + int((BR[0] - BL[0])/2), BR[1]),(TR[0] - int((TR[0] - TL[0])/2), TR[1]), (0,0,0), 7) \n",
    "\n",
    "    return frame "
   ]
  },
  {
   "cell_type": "code",
   "execution_count": 6,
   "metadata": {},
   "outputs": [],
   "source": [
    "# original image\n",
    "# -1 loads as-is so if it will be 3 or 4 channel as the original\n",
    "IMAGE_PATH = os.path.join('data','masked', 'base.jpg')\n",
    "image = cv2.imread(IMAGE_PATH, -1) "
   ]
  },
  {
   "cell_type": "code",
   "execution_count": 7,
   "metadata": {},
   "outputs": [
    {
     "data": {
      "text/plain": [
       "(720, 1280, 3)"
      ]
     },
     "execution_count": 7,
     "metadata": {},
     "output_type": "execute_result"
    }
   ],
   "source": [
    "image.shape"
   ]
  },
  {
   "cell_type": "code",
   "execution_count": 8,
   "metadata": {},
   "outputs": [],
   "source": [
    "MASKED_IMAGES = os.path.join('data','masked') "
   ]
  },
  {
   "cell_type": "code",
   "execution_count": 9,
   "metadata": {},
   "outputs": [
    {
     "name": "stdout",
     "output_type": "stream",
     "text": [
      "RGB Values:  [(96, 0, 27)]\n"
     ]
    },
    {
     "data": {
      "image/png": "[encoded data removed]",
      "text/plain": [
       "<Figure size 1600x1200 with 2 Axes>"
      ]
     },
     "metadata": {},
     "output_type": "display_data"
    }
   ],
   "source": [
    "# For Lower Player\n",
    "masking_image(image, (195,654), (1068,654), (848,325), (398,325), os.path.join(MASKED_IMAGES,'Masked_Lower.jpg'))\n",
    "rgb_lower = exact_least_used_colors(os.path.join(MASKED_IMAGES,'Masked_Lower.jpg'),36, 10, 1.7, 5)"
   ]
  },
  {
   "cell_type": "code",
   "execution_count": 10,
   "metadata": {},
   "outputs": [
    {
     "name": "stdout",
     "output_type": "stream",
     "text": [
      "RGB Values:  [(195, 253, 239)]\n"
     ]
    },
    {
     "data": {
      "image/png": "[encoded data removed]",
      "text/plain": [
       "<Figure size 1600x1200 with 2 Axes>"
      ]
     },
     "metadata": {},
     "output_type": "display_data"
    }
   ],
   "source": [
    "# For Upper Player\n",
    "masking_image(image, (398,360), (848,360), (848,235), (398,235), os.path.join(MASKED_IMAGES,'Masked_Upper.jpg'))\n",
    "rgb_upper = exact_least_used_colors(os.path.join(MASKED_IMAGES,'Masked_Upper.jpg'),36, 10, 1.7, 5)"
   ]
  },
  {
   "cell_type": "code",
   "execution_count": 11,
   "metadata": {},
   "outputs": [],
   "source": [
    "# Convert RGB To BGR for OpenCv\n",
    "\n",
    "bgr_upper = rgb_upper[::-1]\n",
    "bgr_lower = rgb_lower[::-1]"
   ]
  },
  {
   "cell_type": "markdown",
   "metadata": {},
   "source": [
    "Tracking Objects in Video with Particle Filters\n",
    "==============================================="
   ]
  },
  {
   "cell_type": "markdown",
   "metadata": {},
   "source": [
    "Import libraries"
   ]
  },
  {
   "cell_type": "code",
   "execution_count": 12,
   "metadata": {},
   "outputs": [],
   "source": [
    "import numpy as np\n",
    "import cv2\n",
    "import os\n",
    "\n",
    "# Repeatability\n",
    "np.random.seed(0)\n",
    "\n",
    "\n",
    "VFILENAME = os.path.join('data', 'match2.mp4')\n",
    "HEIGHT = 720\n",
    "WIDTH = 1280"
   ]
  },
  {
   "cell_type": "markdown",
   "metadata": {},
   "source": [
    "Load video frames from file"
   ]
  },
  {
   "cell_type": "code",
   "execution_count": 13,
   "metadata": {},
   "outputs": [],
   "source": [
    "def get_frames(filename):\n",
    "    video = cv2.VideoCapture(filename) \n",
    "    frame_id = -1\n",
    "    while video.isOpened():\n",
    "        ret, frame = video.read() \n",
    "        frame_id += 1\n",
    "        if ret:\n",
    "            yield frame, frame_id\n",
    "        else:\n",
    "            break\n",
    "    video.release()\n",
    "    yield None"
   ]
  },
  {
   "cell_type": "markdown",
   "metadata": {},
   "source": [
    "Creating a particle cloud"
   ]
  },
  {
   "cell_type": "code",
   "execution_count": 14,
   "metadata": {},
   "outputs": [],
   "source": [
    "NUM_PARTICLES = 200\n",
    "# pixel per second\n",
    "VEL_RANGE = 0.5 \n",
    "\n",
    "# Global\n",
    "# BL = (195,654)\n",
    "# BR = (1068,654)\n",
    "# TR = (848,273)\n",
    "# TL = (398,273) \n",
    "\n",
    "def initialize_particles(BL, BR, TL, TR):\n",
    "    # particles given random value between 0 and 1; each particle has 4 attr\n",
    "    particles = np.random.rand(NUM_PARTICLES, 4) \n",
    "    # we dont want values between 0 and 1 so we multiply  \n",
    "    particles = (particles * np.array((TR[0] - TL[0], BR[1] - TR[1], VEL_RANGE, VEL_RANGE))) + (np.array((TL[0],TR[1],0,0)))\n",
    "    \n",
    "    # From above, we got velocity in range of 0 to 0.5  \n",
    "    # Now we want velocity to be centered at 0 and being able to go in either direction. \n",
    "    # Thats why we subtract the middle value (0.25) from all random values above\n",
    "    particles[:,2:4] -= VEL_RANGE/2.0 \n",
    "    print(particles[:20, :])\n",
    "    print('----------------------') \n",
    "    return particles"
   ]
  },
  {
   "cell_type": "markdown",
   "metadata": {},
   "source": [
    "Moving particles according to their velocity state"
   ]
  },
  {
   "cell_type": "code",
   "execution_count": 15,
   "metadata": {},
   "outputs": [],
   "source": [
    "def apply_velocity(particles):\n",
    "    # We are adding Vx to x beacuse this is being done for unit time \n",
    "    particles[:, 0] += particles[:,2]\n",
    "    particles[:, 1] += particles[:,3]\n",
    "    \n",
    "    return particles"
   ]
  },
  {
   "cell_type": "markdown",
   "metadata": {},
   "source": [
    "### Computing x coordinate for a particular y coordinate on the line"
   ]
  },
  {
   "cell_type": "code",
   "execution_count": 16,
   "metadata": {},
   "outputs": [],
   "source": [
    "# Left Line:  y + 1.88x - 1020 = 0\n",
    "# Right Line: y - 1.73x + 1196 = 0\n",
    "\n",
    "def get_x_left(y): \n",
    "    return (1020-y)/1.88 \n",
    "\n",
    "def get_x_right(y): \n",
    "    return (y+1196)/1.73"
   ]
  },
  {
   "cell_type": "markdown",
   "metadata": {},
   "source": [
    "Prevent particles from falling off the edge of the video frame"
   ]
  },
  {
   "cell_type": "code",
   "execution_count": 17,
   "metadata": {},
   "outputs": [],
   "source": [
    "def enforce_edges(particles,BL,BR,TL,TR, pid):\n",
    "    for i in range(NUM_PARTICLES): \n",
    "     \n",
    "        # If frame width is 100,and particle x position touches 100, we set it back to 99\n",
    "        # This wont be an issue if the position is any other x position because that position value will be less than width-1\n",
    "        \n",
    "        # y bound\n",
    "        particles[i,1] = max(TL[1], min(BL[1]-1, particles[i,1]))\n",
    "        \n",
    "        # x bound \n",
    "        if pid == 'lower':\n",
    "            particles[i,0] = max(get_x_left(particles[i,1]), min(get_x_right(particles[i,1]), particles[i,0])) \n",
    "        elif pid == 'upper': \n",
    "            particles[i,0] = max(BL[0], min(BR[0] -1, particles[i,0]))\n",
    "         \n",
    "    return particles"
   ]
  },
  {
   "cell_type": "markdown",
   "metadata": {},
   "source": [
    "Measure each particle's quality"
   ]
  },
  {
   "cell_type": "code",
   "execution_count": 18,
   "metadata": {},
   "outputs": [],
   "source": [
    "def compute_errors(particles, frame, TARGET_COLOR):\n",
    "    errors = np.zeros(NUM_PARTICLES)\n",
    "    for i in range(NUM_PARTICLES): \n",
    "        x = int(particles[i,0])\n",
    "        y = int(particles[i,1]) \n",
    "        # Every pixel at x,y in frame will have 3 values denoting RGB \n",
    "        pixel_color = frame[y,x,:] \n",
    "        errors[i] = np.sum((TARGET_COLOR - pixel_color)**2)\n",
    "    \n",
    "    return errors"
   ]
  },
  {
   "cell_type": "markdown",
   "metadata": {},
   "source": [
    "Assign weights to the particles based on their quality of match"
   ]
  },
  {
   "cell_type": "code",
   "execution_count": 19,
   "metadata": {},
   "outputs": [],
   "source": [
    "def compute_weights(errors, particles,BL,BR,TL,TR, pid):\n",
    "    weights = np.max(errors) - errors \n",
    "    \n",
    "    # Setting weights of particles on the boundary to 0\n",
    "    \n",
    "    if pid == 'lower':\n",
    "        weights[\n",
    "            (particles[:,0] == get_x_left(particles[:,1])) | \n",
    "            (particles[:,1] == TL[1]) | \n",
    "            (particles[:,0] == get_x_right(particles[:,1])) | \n",
    "            (particles[:,1] == BL[1]-1)\n",
    "        ] = 0.0 \n",
    "        \n",
    "    elif pid == 'upper': \n",
    "        weights[\n",
    "            (particles[:,0] == BL[0]) | \n",
    "            (particles[:,1] == TL[1]) | \n",
    "            (particles[:,0] == BR[0]-1) | \n",
    "            (particles[:,1] == BL[1]-1)\n",
    "        ] = 0.0\n",
    "    \n",
    "    weights = weights**8\n",
    "    \n",
    "    return weights"
   ]
  },
  {
   "cell_type": "markdown",
   "metadata": {},
   "source": [
    "Resample particles according to their weights"
   ]
  },
  {
   "cell_type": "code",
   "execution_count": 20,
   "metadata": {},
   "outputs": [],
   "source": [
    "def resample(particles, weights):\n",
    "    # Normalize to get valid PDF\n",
    "    probabilities = weights / np.sum(weights)\n",
    "\n",
    "    # Resample\n",
    "    indices = np.random.choice(\n",
    "        NUM_PARTICLES,\n",
    "        size=NUM_PARTICLES,\n",
    "        p=probabilities)\n",
    "    \n",
    "    particles = particles[ indices, : ]\n",
    "\n",
    "    # Take average over all particles, best-guess for location\n",
    "    x = np.mean(particles[:,0])\n",
    "    y = np.mean(particles[:,1])\n",
    "    return particles, (int(x),int(y))"
   ]
  },
  {
   "cell_type": "markdown",
   "metadata": {},
   "source": [
    "Fuzz the particles"
   ]
  },
  {
   "cell_type": "code",
   "execution_count": 21,
   "metadata": {},
   "outputs": [],
   "source": [
    "def apply_noise(particles, POS_SIGMA, VEL_SIGMA):\n",
    "    noise = np.concatenate(\n",
    "    (\n",
    "        np.random.normal(0.0, POS_SIGMA, (NUM_PARTICLES,1)), \n",
    "        np.random.normal(0.0, POS_SIGMA, (NUM_PARTICLES,1)), \n",
    "        np.random.normal(0.0, VEL_SIGMA, (NUM_PARTICLES,1)), \n",
    "        np.random.normal(0.0, VEL_SIGMA, (NUM_PARTICLES,1))\n",
    "    ), \n",
    "    axis = 1)\n",
    "    \n",
    "    particles += noise \n",
    "    return particles\n",
    "    "
   ]
  },
  {
   "cell_type": "markdown",
   "metadata": {},
   "source": [
    "Predict automatic shot direction based on position "
   ]
  },
  {
   "cell_type": "code",
   "execution_count": 22,
   "metadata": {},
   "outputs": [],
   "source": [
    "import math \n",
    "\n",
    "def apply_shot_direction(frame, location_lower, location_upper): \n",
    "    THRESHOLD_STRAIGHT = 100.0\n",
    "    THRESHOLD_CROSS = 50.0 \n",
    "    font = cv2.FONT_HERSHEY_PLAIN \n",
    "    \n",
    "    distance = abs(location_upper[0] - location_lower[0])  \n",
    "    \n",
    "    if distance>=THRESHOLD_STRAIGHT: \n",
    "        cv2.putText(frame, 'STRAIGHT', (0, HEIGHT-20), font,2,(255,255,255), 2)\n",
    "    \n",
    "    elif distance<=THRESHOLD_CROSS: \n",
    "        cv2.putText(frame, 'CROSS', (0, HEIGHT-20), font,2,(255,255,255), 2)\n",
    "        \n",
    "    else: \n",
    "        cv2.putText(frame, 'NEUTRAL', (0, HEIGHT-20), font,2,(255,255,255), 2)\n",
    "        \n",
    "    return frame "
   ]
  },
  {
   "cell_type": "markdown",
   "metadata": {},
   "source": [
    "Display the video frames"
   ]
  },
  {
   "cell_type": "markdown",
   "metadata": {},
   "source": [
    "Reading Non Playing Frames"
   ]
  },
  {
   "cell_type": "code",
   "execution_count": 23,
   "metadata": {},
   "outputs": [],
   "source": [
    "PATH_FRAME_TIMESTAMPS = os.path.join('data','cnn','frame_timestamps.txt') \n",
    "frames_nonplay = [] \n",
    "with open(PATH_FRAME_TIMESTAMPS, 'r') as f: \n",
    "    frames = f.read().split(',') \n",
    "\n",
    "frames_hit = [] \n",
    "PATH_TIMESTAMPS = os.path.join('timestamps.txt') \n",
    "with open(PATH_TIMESTAMPS,'r') as f: \n",
    "    timestamps = f.read().split(',') \n",
    "    for i,second in enumerate(timestamps):\n",
    "        frame_id = int(30.0*float(second))\n",
    "        frames_hit.append(frame_id) \n"
   ]
  },
  {
   "cell_type": "code",
   "execution_count": 24,
   "metadata": {},
   "outputs": [],
   "source": [
    "def display(frame, frame_id,  particles_lower, particles_upper, location_lower, location_upper):\n",
    "    if len(particles_lower) > 0:\n",
    "        for i in range(NUM_PARTICLES):\n",
    "            x = int(particles_lower[i,0]) \n",
    "            y = int(particles_lower[i,1])\n",
    "            cv2.circle(frame, (x,y),1, (255,255,255), 1) \n",
    "            \n",
    "    if len(particles_upper) > 0:\n",
    "        for i in range(NUM_PARTICLES):\n",
    "            x = int(particles_upper[i,0]) \n",
    "            y = int(particles_upper[i,1])\n",
    "            cv2.circle(frame, (x,y),1, (252, 36, 3), 1)        \n",
    "    \n",
    "    if len(location_lower) > 0:\n",
    "        cv2.rectangle(frame, (location_lower[0] - 60, location_lower[1] - 100), (location_lower[0] + 70, location_lower[1] + 160), (0,0,255), 2)\n",
    "    \n",
    "    if len(location_upper) > 0:\n",
    "        cv2.rectangle(frame, (location_upper[0] - 50, location_upper[1] - 100), (location_upper[0] + 70, location_upper[1] + 90), (0,255,0), 2)\n",
    "    \n",
    "#     if frame_id in frames_hit: \n",
    "    frame = apply_shot_direction(frame, location_lower, location_upper) \n",
    "    \n",
    "    cv2.imshow('frame',frame) \n",
    "    # 27 is the escape key. The number in the function is waiting time\n",
    "    if cv2.waitKey(30) == 27:\n",
    "        if cv2.waitKey(0) == 27:\n",
    "            return True \n",
    "    \n",
    "    return False"
   ]
  },
  {
   "cell_type": "markdown",
   "metadata": {},
   "source": [
    "Function for checking frame type "
   ]
  },
  {
   "cell_type": "markdown",
   "metadata": {},
   "source": [
    "Main routine"
   ]
  },
  {
   "cell_type": "code",
   "execution_count": 25,
   "metadata": {},
   "outputs": [
    {
     "name": "stdout",
     "output_type": "stream",
     "text": [
      "[[ 6.44966077e+02  5.60297302e+02  5.13816880e-02  2.24415915e-02]\n",
      " [ 5.88644660e+02  5.37499163e+02 -3.12063944e-02  1.95886500e-01]\n",
      " [ 8.31648242e+02  4.51152260e+02  1.45862519e-01  1.44474599e-02]\n",
      " [ 6.53620052e+02  6.29521294e+02 -2.14481971e-01 -2.06435350e-01]\n",
      " [ 4.07098279e+02  5.98931929e+02  1.39078375e-01  1.85006074e-01]\n",
      " [ 8.38378254e+02  5.87923168e+02 -1.92603189e-02  1.40264588e-01]\n",
      " [ 4.51223492e+02  5.35534016e+02 -1.78323356e-01  2.22334459e-01]\n",
      " [ 6.32831745e+02  4.61423778e+02 -1.17722194e-01  1.37116845e-01]\n",
      " [ 6.03267649e+02  5.12014769e+02 -2.40605100e-01  5.88177485e-02]\n",
      " [ 6.73443075e+02  5.27971285e+02  2.21874039e-01  9.09101496e-02]\n",
      " [ 5.59778555e+02  4.68783513e+02  9.88155980e-02 -2.19887264e-01]\n",
      " [ 6.98045022e+02  5.45639859e+02 -1.44808719e-01 -1.85536851e-01]\n",
      " [ 5.39942758e+02  4.44660844e+02  3.50983852e-02 -3.06992433e-02]\n",
      " [ 8.42768227e+02  3.58572743e+02 -1.45561622e-01 -1.69345241e-01]\n",
      " [ 6.91898746e+02  4.08332937e+02 -1.68446136e-02 -1.27787204e-01]\n",
      " [ 4.69536313e+02  3.61313421e+02  7.81647947e-02 -1.80908524e-01]\n",
      " [ 4.86462063e+02  4.46310581e+02  1.60496615e-01 -2.01449362e-01]\n",
      " [ 7.75075208e+02  3.56616376e+02  2.38229733e-01 -1.56743992e-02]\n",
      " [ 8.37542490e+02  5.23994176e+02  1.19631790e-01 -2.30406104e-01]\n",
      " [ 5.25263133e+02  3.64544669e+02 -1.01929901e-01 -1.90636141e-01]]\n",
      "----------------------\n",
      "[[ 4.15996761e+02  3.09558715e+02 -4.58485458e-02 -6.12967137e-02]\n",
      " [ 7.62214237e+02  3.19264964e+02  2.27166908e-01 -7.40318798e-02]\n",
      " [ 8.01894244e+02  3.27795406e+02 -7.12876742e-02  6.08327182e-02]\n",
      " [ 5.27856481e+02  3.42415988e+02 -1.93786341e-01 -1.43782819e-01]\n",
      " [ 4.80364981e+02  2.76423640e+02  1.22616480e-01  1.34537245e-02]\n",
      " [ 6.17454346e+02  2.20076435e+02 -3.72991373e-02 -2.18223113e-01]\n",
      " [ 4.91713963e+02  3.50535151e+02 -1.42300898e-01  1.79168819e-01]\n",
      " [ 7.59302017e+02  2.42280473e+02  5.28559786e-02 -1.92169064e-01]\n",
      " [ 7.25549671e+02  3.09244719e+02  1.55969281e-01 -1.03077253e-02]\n",
      " [ 8.09688390e+02  2.26908853e+02 -1.03555717e-01  1.07526299e-01]\n",
      " [ 5.86149145e+02  2.44213190e+02 -1.96394627e-01  1.58669556e-01]\n",
      " [ 6.10914340e+02  3.43519714e+02  1.16644567e-01 -4.51368972e-02]\n",
      " [ 5.66079956e+02  2.92189369e+02  1.94529977e-01  1.18639290e-01]\n",
      " [ 4.00318834e+02  3.17182099e+02  2.09753703e-01  1.05227880e-01]\n",
      " [ 4.77652602e+02  2.87692538e+02 -1.79841991e-01 -7.05023608e-02]\n",
      " [ 8.19702669e+02  3.49262743e+02 -1.08581574e-01 -8.01844779e-02]\n",
      " [ 6.68095791e+02  3.54847621e+02 -1.76099333e-01 -1.21541678e-01]\n",
      " [ 7.91100572e+02  2.88864912e+02  1.99480546e-01 -1.57241051e-01]\n",
      " [ 6.37700864e+02  2.65677749e+02 -9.17287201e-02 -2.65615180e-02]\n",
      " [ 5.92884852e+02  2.70028563e+02  2.07485385e-01  1.15872093e-01]]\n",
      "----------------------\n"
     ]
    }
   ],
   "source": [
    "# Global\n",
    "# BL = (195,654)\n",
    "# BR = (1068,654)\n",
    "# TR = (848,273)\n",
    "# TL = (398,273) \n",
    "\n",
    "# Lower \n",
    "BL_LOWER = (195,654) \n",
    "BR_LOWER = (1068,654)\n",
    "TL_LOWER = (398,325)\n",
    "TR_LOWER = (848,325)\n",
    "\n",
    "# Upper \n",
    "BL_UPPER = (398,360) \n",
    "BR_UPPER = (848,360)\n",
    "TL_UPPER = (398,220)\n",
    "TR_UPPER = (848,220)\n",
    "\n",
    "particles_lower = initialize_particles(BL_LOWER,BR_LOWER,TL_LOWER,TR_LOWER) \n",
    "particles_upper = initialize_particles(BL_UPPER,BR_UPPER,TL_UPPER,TR_UPPER) \n",
    "\n",
    "for frame, frame_id in get_frames(VFILENAME):\n",
    "    if frame is None: break \n",
    "        \n",
    "    # Re-initialize particles and dont display them if non-playing frame\n",
    "    if str(frame_id) in frames_nonplay: \n",
    "        particles_lower = initialize_particles(BL_LOWER,BR_LOWER,TL_LOWER,TR_LOWER) \n",
    "        particles_upper = initialize_particles(BL_UPPER,BR_UPPER,TL_UPPER,TR_UPPER)  \n",
    "        cv2.imshow('frame',frame) \n",
    "        if cv2.waitKey(30) == 27:\n",
    "            if cv2.waitKey(0) == 27:\n",
    "                break \n",
    "    \n",
    "    else: \n",
    "        frame = change_court_boundary(frame) \n",
    "        particles_lower = apply_velocity(particles_lower) \n",
    "        particles_upper = apply_velocity(particles_upper) \n",
    "\n",
    "        particles_lower = enforce_edges(particles_lower, BL_LOWER,BR_LOWER,TL_LOWER,TR_LOWER,'lower')\n",
    "        particles_upper = enforce_edges(particles_upper, BL_UPPER,BR_UPPER,TL_UPPER,TR_UPPER,'upper')\n",
    "\n",
    "        errors_lower = compute_errors(particles_lower, frame, bgr_lower) \n",
    "        errors_upper = compute_errors(particles_upper, frame, bgr_upper) \n",
    "\n",
    "        weights_lower = compute_weights(errors_lower, particles_lower,BL_LOWER,BR_LOWER,TL_LOWER,TR_LOWER, 'lower')\n",
    "        weights_upper = compute_weights(errors_upper, particles_upper,BL_UPPER,BR_UPPER,TL_UPPER,TR_UPPER, 'upper')\n",
    "\n",
    "        particles_lower, location_lower = resample(particles_lower, weights_lower) \n",
    "        particles_upper, location_upper = resample(particles_upper, weights_upper) \n",
    "\n",
    "        particles_lower = apply_noise(particles_lower, 7.0,3.0)\n",
    "        particles_upper = apply_noise(particles_upper, 4.0,2.0)\n",
    "\n",
    "        particles_lower = enforce_edges(particles_lower, BL_LOWER,BR_LOWER,TL_LOWER,TR_LOWER,'lower')\n",
    "        particles_upper = enforce_edges(particles_upper, BL_UPPER,BR_UPPER,TL_UPPER,TR_UPPER,'upper')\n",
    "\n",
    "        terminate = display(frame, frame_id, particles_lower, particles_upper, location_lower, location_upper)\n",
    "        if terminate:\n",
    "            break\n",
    "            \n",
    "cv2.destroyAllWindows()\n"
   ]
  },
  {
   "cell_type": "code",
   "execution_count": null,
   "metadata": {},
   "outputs": [],
   "source": []
  }
 ],
 "metadata": {
  "kernelspec": {
   "display_name": "badminton",
   "language": "python",
   "name": "badminton"
  },
  "language_info": {
   "codemirror_mode": {
    "name": "ipython",
    "version": 3
   },
   "file_extension": ".py",
   "mimetype": "text/x-python",
   "name": "python",
   "nbconvert_exporter": "python",
   "pygments_lexer": "ipython3",
   "version": "3.9.13"
  }
 },
 "nbformat": 4,
 "nbformat_minor": 4
}
